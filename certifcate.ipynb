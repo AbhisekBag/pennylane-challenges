{
 "cells": [
  {
   "cell_type": "code",
   "execution_count": 87,
   "metadata": {},
   "outputs": [],
   "source": [
    "import json\n",
    "import pennylane as qml\n",
    "import pennylane.numpy as np"
   ]
  },
  {
   "cell_type": "code",
   "execution_count": 135,
   "metadata": {},
   "outputs": [],
   "source": [
    "def W(params):\n",
    "    \n",
    "    \"\"\"\n",
    "    Subcircuit that implements the trainable block W\n",
    "    \n",
    "    Args:\n",
    "        params (np.array): A matrix containing the parameters for the trainable block W. The length of\n",
    "        params is equal to the depth of the circuit. The length of each row in params is the number \n",
    "        of qubits used. See the challenge statement for a detailed explanation\n",
    "    Returns:\n",
    "        Since this function is a subcircuit, you must not return anything.\n",
    "    \n",
    "    \"\"\"\n",
    "    num_wires = len(params[0])\n",
    "    wires = list(range(num_wires))\n",
    "\n",
    "    for layer_params in params:\n",
    "        # Apply rotations\n",
    "        for i, param in enumerate(layer_params):\n",
    "            qml.RY(param, wires=wires[i])  # Use RY gate instead of Rot gate\n",
    "        \n",
    "        # Apply entangling gates (CNOT)\n",
    "        for i in range(num_wires):\n",
    "            qml.CNOT(wires=[wires[i], wires[(i+1) % num_wires]])"
   ]
  },
  {
   "cell_type": "code",
   "execution_count": 157,
   "metadata": {},
   "outputs": [],
   "source": [
    "def S(g, x, num_wires):\n",
    "    \n",
    "    \"\"\"\n",
    "    Subcircuit that implements the encoding block S\n",
    "    \n",
    "    Args:\n",
    "        g (pennylane.Operator): A PennyLane operator representing the generator for the encoding\n",
    "        gates. It must be Hermitian in order to generate a unitary. Call it as g(wires) to specify\n",
    "        the wires on which it acts.\n",
    "        x (complex): The scalar coefficient of the operator g.\n",
    "        num_wires (int): The number of wires over which the encoding gate is broadcast.\n",
    "        \n",
    "        \n",
    "    Returns:\n",
    "        Since this function is a subcircuit, you must not return anything.\n",
    "    \n",
    "    \"\"\"\n",
    "    # Put your code here\n",
    "    for wire in range(num_wires):\n",
    "        qml.QubitUnitary(x * g(wire).matrix,wires=wire)"
   ]
  },
  {
   "cell_type": "code",
   "execution_count": 137,
   "metadata": {},
   "outputs": [],
   "source": [
    "# Create a device\n",
    "dev = qml.device(\"default.qubit\", wires = [0,1,2,3])"
   ]
  },
  {
   "cell_type": "code",
   "execution_count": 146,
   "metadata": {},
   "outputs": [],
   "source": [
    "@qml.qnode(dev, expansion_strategy = \"device\")\n",
    "def quantum_model(param_set, g, x):\n",
    "    \n",
    "    \"\"\"\n",
    "    This QNode implements the quantum model with alternating trainable and encoding blocks\n",
    "    \n",
    "    Args:\n",
    "        param_set (np.array): A numpy array whose elements are the parameter matrices for each of the trainable\n",
    "        blocks. Therefore, the length of this list is equal to the number of trainable blocks, which is greater\n",
    "        than, or equal to 2.\n",
    "        g (pennylane.Operator): A PennyLane operator representing the generator for the encoding\n",
    "        gates. It must be Hermitian in order to generate a unitary.\n",
    "        x: The scalar coefficient of the operator g.\n",
    "    Returns:\n",
    "        (np.tensor(float)): A tensor of dimensions (2,) representing the measurement probabilities in the computational \n",
    "        basis on the first wire.\n",
    "    \"\"\"\n",
    "    # Put your code here\n",
    "    num_wires = 4\n",
    "    # Apply alternating trainable and encoding blocks\n",
    "    for params in param_set:\n",
    "            W(params)\n",
    "            S(g, x, num_wires)\n",
    "    # Measure the probabilities in the computational basis on the first wire\n",
    "    #print(qml.probs(wires=0))\n",
    "    return qml.probs(wires=0)"
   ]
  },
  {
   "cell_type": "code",
   "execution_count": 151,
   "metadata": {},
   "outputs": [],
   "source": [
    "# These functions are used to test your solution\n",
    "\n",
    "def run(test_case_input: str) -> str:\n",
    "    ins = json.loads(test_case_input)\n",
    "    params = np.array(ins[0])\n",
    "    g = getattr(qml, ins[1])\n",
    "    x = ins[2]\n",
    "    outs = quantum_model(params, g, x).tolist()\n",
    "    print(outs,'output')\n",
    "    return str(outs)\n",
    "\n",
    "def check(solution_output: str, expected_output: str) -> None:\n",
    "    solution_output = json.loads(solution_output)\n",
    "    expected_output = json.loads(expected_output)\n",
    "    \n",
    "    dev_test = qml.device(\"default.qubit\", wires = [0,1,2])    \n",
    "    \n",
    "    @qml.qnode(dev_test)\n",
    "    def w_node(params):\n",
    "        \n",
    "        W(params)\n",
    "        \n",
    "        return qml.probs(wires = [0,1]) \n",
    "    \n",
    "    @qml.qnode(dev_test)\n",
    "    def s_node(g, x, num_wires):\n",
    "        \n",
    "        S(g, x, num_wires)\n",
    "        \n",
    "        return qml.probs(wires = [0,1]) \n",
    "        \n",
    "    params_test = np.array([[np.pi, np.pi/4, np.pi],[np.pi, np.pi/4, np.pi/3]])\n",
    "    w_test = w_node(params_test)\n",
    "    \n",
    "    s_test = s_node(qml.PauliX, np.pi/7, 3)\n",
    "    \n",
    "    assert np.allclose(w_test, [0.10983496, 0.21338835, 0.03661165, 0.64016504], atol = 1e-3), \"Something isn't quite right with the trainable block.\"\n",
    "    \n",
    "    assert np.allclose(s_test, [0.65892978, 0.15281512, 0.15281512, 0.03543998], atol = 1e-3), \"Something isn't quite right with the encoding block.\"\n",
    "    \n",
    "    assert np.allclose(solution_output,expected_output, atol = 1e-3), \"Not the correct probabilities for the quantum model.\""
   ]
  },
  {
   "cell_type": "code",
   "execution_count": 152,
   "metadata": {},
   "outputs": [],
   "source": [
    "# These are the public test cases\n",
    "test_cases = [\n",
    "    ('[[[[1.0472, 0.7854, 3.1416, 0.3927],[1.0472, 0.7854, 3.1416, 0.5236]],[[1.0472, 0.7854, 1.5708, 0.3927],[0.7854, 0.7854, 1.5708, 0.7854]]],\"PauliX\", 0.7854]', '[0.46653, 0.53347]'),\n",
    "    ('[[[[0.62832, 0.3927, 1.0472, 0.7854],[0.7854, 0.31416, 0.62832, 0.5236]],[[0.31416, 0.7854, 0.7854, 0.3927],[0.31416, 0.3927, 0.31416, 0.3927]]],\"PauliY\", 0.5236]', '[0.68594, 0.31406]')\n",
    "]"
   ]
  },
  {
   "cell_type": "code",
   "execution_count": 153,
   "metadata": {},
   "outputs": [
    {
     "name": "stdout",
     "output_type": "stream",
     "text": [
      "Running test case 0 with input '[[[[1.0472, 0.7854, 3.1416, 0.3927],[1.0472, 0.7854, 3.1416, 0.5236]],[[1.0472, 0.7854, 1.5708, 0.3927],[0.7854, 0.7854, 1.5708, 0.7854]]],\"PauliX\", 0.7854]'...\n",
      "Runtime Error. __init__() missing 1 required positional argument: 'wires'\n",
      "Running test case 1 with input '[[[[0.62832, 0.3927, 1.0472, 0.7854],[0.7854, 0.31416, 0.62832, 0.5236]],[[0.31416, 0.7854, 0.7854, 0.3927],[0.31416, 0.3927, 0.31416, 0.3927]]],\"PauliY\", 0.5236]'...\n",
      "Runtime Error. __init__() missing 1 required positional argument: 'wires'\n"
     ]
    }
   ],
   "source": [
    "# This will run the public test cases locally\n",
    "for i, (input_, expected_output) in enumerate(test_cases):\n",
    "    print(f\"Running test case {i} with input '{input_}'...\")\n",
    "\n",
    "    try:\n",
    "        output = run(input_)\n",
    "\n",
    "    except Exception as exc:\n",
    "        print(f\"Runtime Error. {exc}\")\n",
    "\n",
    "    else:\n",
    "        if message := check(output, expected_output):\n",
    "            print(f\"Wrong Answer. Have: '{output}'. Want: '{expected_output}'.\")\n",
    "\n",
    "        else:\n",
    "            print(\"Correct!\")"
   ]
  },
  {
   "cell_type": "code",
   "execution_count": null,
   "metadata": {},
   "outputs": [],
   "source": []
  },
  {
   "cell_type": "code",
   "execution_count": 174,
   "metadata": {},
   "outputs": [
    {
     "name": "stdout",
     "output_type": "stream",
     "text": [
      "Running test case 0 with input '[[[[1.0472, 0.7854, 3.1416, 0.3927],[1.0472, 0.7854, 3.1416, 0.5236]],[[1.0472, 0.7854, 1.5708, 0.3927],[0.7854, 0.7854, 1.5708, 0.7854]]],\"PauliX\", 0.7854]'...\n",
      "[0.01322159908377354, 0.007741445160545031]\n"
     ]
    },
    {
     "name": "stderr",
     "output_type": "stream",
     "text": [
      "/Users/solo/opt/anaconda3/envs/newqc/lib/python3.9/site-packages/pennylane/math/utils.py:227: UserWarning: Contains tensors of types {'autograd', 'abc'}; dispatch will prioritize TensorFlow, PyTorch, and  Jax over Autograd. Consider replacing Autograd with vanilla NumPy.\n",
      "  warnings.warn(\n"
     ]
    },
    {
     "ename": "AssertionError",
     "evalue": "Not the correct probabilities for the quantum model.",
     "output_type": "error",
     "traceback": [
      "\u001b[0;31m---------------------------------------------------------------------------\u001b[0m",
      "\u001b[0;31mAssertionError\u001b[0m                            Traceback (most recent call last)",
      "Cell \u001b[0;32mIn[174], line 68\u001b[0m\n\u001b[1;32m     66\u001b[0m     \u001b[38;5;28mprint\u001b[39m(\u001b[38;5;124mf\u001b[39m\u001b[38;5;124m\"\u001b[39m\u001b[38;5;124mRuntime Error: \u001b[39m\u001b[38;5;132;01m{\u001b[39;00mexc\u001b[38;5;132;01m}\u001b[39;00m\u001b[38;5;124m\"\u001b[39m)\n\u001b[1;32m     67\u001b[0m \u001b[38;5;28;01melse\u001b[39;00m:\n\u001b[0;32m---> 68\u001b[0m     \u001b[43mcheck\u001b[49m\u001b[43m(\u001b[49m\u001b[43moutput\u001b[49m\u001b[43m,\u001b[49m\u001b[43m \u001b[49m\u001b[43mexpected_output\u001b[49m\u001b[43m)\u001b[49m\n\u001b[1;32m     69\u001b[0m     \u001b[38;5;28mprint\u001b[39m(\u001b[38;5;124m\"\u001b[39m\u001b[38;5;124mCorrect!\u001b[39m\u001b[38;5;124m\"\u001b[39m)\n",
      "Cell \u001b[0;32mIn[174], line 52\u001b[0m, in \u001b[0;36mcheck\u001b[0;34m(solution_output, expected_output)\u001b[0m\n\u001b[1;32m     49\u001b[0m solution_output \u001b[38;5;241m=\u001b[39m json\u001b[38;5;241m.\u001b[39mloads(solution_output)\n\u001b[1;32m     50\u001b[0m expected_output \u001b[38;5;241m=\u001b[39m json\u001b[38;5;241m.\u001b[39mloads(expected_output)\n\u001b[0;32m---> 52\u001b[0m \u001b[38;5;28;01massert\u001b[39;00m np\u001b[38;5;241m.\u001b[39mallclose(solution_output, expected_output, atol\u001b[38;5;241m=\u001b[39m\u001b[38;5;241m1e-3\u001b[39m), \u001b[38;5;124m\"\u001b[39m\u001b[38;5;124mNot the correct probabilities for the quantum model.\u001b[39m\u001b[38;5;124m\"\u001b[39m\n",
      "\u001b[0;31mAssertionError\u001b[0m: Not the correct probabilities for the quantum model."
     ]
    }
   ],
   "source": [
    "import json\n",
    "import pennylane as qml\n",
    "import pennylane.numpy as np\n",
    "\n",
    "def W(params):\n",
    "    num_wires = len(params[0])\n",
    "    wires = list(range(num_wires))\n",
    "\n",
    "    for layer_params in params:\n",
    "        # Apply rotations\n",
    "        for i, param in enumerate(layer_params):\n",
    "            qml.RY(param, wires=wires[i])\n",
    "\n",
    "        # Apply entangling gates (CNOT)\n",
    "        for i in range(num_wires):\n",
    "            qml.CNOT(wires=[wires[i], wires[(i+1) % num_wires]])\n",
    "\n",
    "def S(g, x, num_wires):\n",
    "    for wire in range(num_wires):\n",
    "        unitary_matrix = x * g(wire).matrix()\n",
    "        qml.QubitUnitary(unitary_matrix, wires=wire)\n",
    "\n",
    "# Create a device\n",
    "dev = qml.device(\"default.qubit\", wires=[0, 1, 2, 3])\n",
    "\n",
    "@qml.qnode(dev)\n",
    "def quantum_model(param_set, g, x):\n",
    "    num_wires = len(param_set[0][0])\n",
    "\n",
    "    # Apply alternating trainable and encoding blocks\n",
    "    for params in param_set:\n",
    "        W(params)\n",
    "        S(g, x, num_wires)\n",
    "\n",
    "    # Measure the probabilities in the computational basis on the first wire\n",
    "    return qml.probs(wires=0)\n",
    "\n",
    "# These functions are used to test the solution\n",
    "def run(test_case_input: str) -> str:\n",
    "    ins = json.loads(test_case_input)\n",
    "    params = np.array(ins[0])\n",
    "    g = getattr(qml, ins[1])\n",
    "    x = ins[2]\n",
    "    outs = quantum_model(params, g, x).tolist()\n",
    "    print(outs)\n",
    "    return str(outs)\n",
    "\n",
    "def check(solution_output: str, expected_output: str) -> None:\n",
    "    solution_output = json.loads(solution_output)\n",
    "    expected_output = json.loads(expected_output)\n",
    "    \n",
    "    assert np.allclose(solution_output, expected_output, atol=1e-3), \"Not the correct probabilities for the quantum model.\"\n",
    "\n",
    "# Public test cases\n",
    "test_cases = [\n",
    "    ('[[[[1.0472, 0.7854, 3.1416, 0.3927],[1.0472, 0.7854, 3.1416, 0.5236]],[[1.0472, 0.7854, 1.5708, 0.3927],[0.7854, 0.7854, 1.5708, 0.7854]]],\"PauliX\", 0.7854]', '[0.46653, 0.53347]'),\n",
    "    ('[[[[0.62832, 0.3927, 1.0472, 0.7854],[0.7854, 0.31416, 0.62832, 0.5236]],[[0.31416, 0.7854, 0.7854, 0.3927],[0.31416, 0.3927, 0.31416, 0.3927]]],\"PauliY\", 0.5236]', '[0.68594, 0.31406]')\n",
    "]\n",
    "\n",
    "# Run the public test cases\n",
    "for i, (input_, expected_output) in enumerate(test_cases):\n",
    "    print(f\"Running test case {i} with input '{input_}'...\")\n",
    "    try:\n",
    "        output = run(input_)\n",
    "    except Exception as exc:\n",
    "        print(f\"Runtime Error: {exc}\")\n",
    "    else:\n",
    "        check(output, expected_output)\n",
    "        print(\"Correct!\")\n"
   ]
  },
  {
   "cell_type": "code",
   "execution_count": null,
   "metadata": {},
   "outputs": [],
   "source": []
  },
  {
   "cell_type": "code",
   "execution_count": null,
   "metadata": {},
   "outputs": [],
   "source": []
  }
 ],
 "metadata": {
  "kernelspec": {
   "display_name": "newqc",
   "language": "python",
   "name": "python3"
  },
  "language_info": {
   "codemirror_mode": {
    "name": "ipython",
    "version": 3
   },
   "file_extension": ".py",
   "mimetype": "text/x-python",
   "name": "python",
   "nbconvert_exporter": "python",
   "pygments_lexer": "ipython3",
   "version": "3.9.19"
  }
 },
 "nbformat": 4,
 "nbformat_minor": 2
}
