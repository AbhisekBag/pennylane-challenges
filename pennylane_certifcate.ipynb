{
 "cells": [
  {
   "cell_type": "code",
   "execution_count": 1,
   "metadata": {},
   "outputs": [
    {
     "name": "stdout",
     "output_type": "stream",
     "text": [
      "Running test case 0 with input '[[[[1.0472, 0.7854, 3.1416, 0.3927],[1.0472, 0.7854, 3.1416, 0.5236]],[[1.0472, 0.7854, 1.5708, 0.3927],[0.7854, 0.7854, 1.5708, 0.7854]]],\"PauliX\", 0.7854]'...\n",
      "Correct!\n",
      "Running test case 1 with input '[[[[0.62832, 0.3927, 1.0472, 0.7854],[0.7854, 0.31416, 0.62832, 0.5236]],[[0.31416, 0.7854, 0.7854, 0.3927],[0.31416, 0.3927, 0.31416, 0.3927]]],\"PauliY\", 0.5236]'...\n",
      "Correct!\n"
     ]
    },
    {
     "name": "stderr",
     "output_type": "stream",
     "text": [
      "/Users/solo/opt/anaconda3/envs/newqc/lib/python3.9/site-packages/pennylane/math/utils.py:227: UserWarning: Contains tensors of types {'autograd', 'abc'}; dispatch will prioritize TensorFlow, PyTorch, and  Jax over Autograd. Consider replacing Autograd with vanilla NumPy.\n",
      "  warnings.warn(\n"
     ]
    }
   ],
   "source": [
    "import json\n",
    "import pennylane as qml\n",
    "import pennylane.numpy as np\n",
    "\n",
    "def W(params):\n",
    "    num_wires = len(params[0])\n",
    "    wires = list(range(num_wires))\n",
    "\n",
    "    for layer_params in params:\n",
    "        # Apply rotations\n",
    "        for i, param in enumerate(layer_params):\n",
    "            qml.RY(param, wires=wires[i])\n",
    "        # Apply entangling gates (CNOT)\n",
    "        for i in range(num_wires):\n",
    "            qml.CNOT(wires=[wires[i], wires[(i+1) % num_wires]])\n",
    "\n",
    "def S(g, x, num_wires):\n",
    "    for wire in range(num_wires):\n",
    "        # Get the operator G for the current wire\n",
    "        G = g(wire)\n",
    "        # Apply the exponential of the operator i x G\n",
    "        qml.exp(qml.dot([1], [1j * x * G]))\n",
    "        \n",
    "\n",
    "# Create a device\n",
    "dev = qml.device(\"default.qubit\", wires=[0, 1, 2, 3])\n",
    "\n",
    "@qml.qnode(dev)\n",
    "def quantum_model(param_set, g, x):\n",
    "    num_wires = len(param_set[0][0])\n",
    "\n",
    "    # Apply alternating trainable and encoding blocks\n",
    "    for i in range(len(param_set)):\n",
    "        W(param_set[i])\n",
    "        if i == len(param_set) - 1:\n",
    "            pass\n",
    "        else:\n",
    "            S(g, x, num_wires)\n",
    "\n",
    "    # Measure the probabilities in the computational basis on the first wire\n",
    "    return qml.probs(wires=0)\n",
    "\n",
    "# These functions are used to test the solution\n",
    "def run(test_case_input: str) -> str:\n",
    "    ins = json.loads(test_case_input)\n",
    "    params = np.array(ins[0])\n",
    "    #print(params[0])\n",
    "    g = getattr(qml, ins[1])\n",
    "    x = ins[2]\n",
    "    outs = quantum_model(params, g, x).tolist()\n",
    "    return str(outs)\n",
    "\n",
    "def check(solution_output: str, expected_output: str) -> None:\n",
    "    solution_output = json.loads(solution_output)\n",
    "    expected_output = json.loads(expected_output)\n",
    "    \n",
    "    assert np.allclose(solution_output, expected_output, atol=1e-3), \"Not the correct probabilities for the quantum model.\"\n",
    "\n",
    "# Public test cases\n",
    "test_cases = [\n",
    "    ('[[[[1.0472, 0.7854, 3.1416, 0.3927],[1.0472, 0.7854, 3.1416, 0.5236]],[[1.0472, 0.7854, 1.5708, 0.3927],[0.7854, 0.7854, 1.5708, 0.7854]]],\"PauliX\", 0.7854]', '[0.46653, 0.53347]'),\n",
    "    ('[[[[0.62832, 0.3927, 1.0472, 0.7854],[0.7854, 0.31416, 0.62832, 0.5236]],[[0.31416, 0.7854, 0.7854, 0.3927],[0.31416, 0.3927, 0.31416, 0.3927]]],\"PauliY\", 0.5236]', '[0.68594, 0.31406]')\n",
    "]\n",
    "\n",
    "# Run the public test cases\n",
    "for i, (input_, expected_output) in enumerate(test_cases):\n",
    "    print(f\"Running test case {i} with input '{input_}'...\")\n",
    "    try:\n",
    "        output = run(input_)\n",
    "    except Exception as exc:\n",
    "        print(f\"Runtime Error: {exc}\")\n",
    "    else:\n",
    "        check(output, expected_output)\n",
    "        print(\"Correct!\")\n"
   ]
  },
  {
   "cell_type": "code",
   "execution_count": null,
   "metadata": {},
   "outputs": [],
   "source": []
  },
  {
   "cell_type": "code",
   "execution_count": null,
   "metadata": {},
   "outputs": [],
   "source": []
  }
 ],
 "metadata": {
  "kernelspec": {
   "display_name": "newqc",
   "language": "python",
   "name": "python3"
  },
  "language_info": {
   "codemirror_mode": {
    "name": "ipython",
    "version": 3
   },
   "file_extension": ".py",
   "mimetype": "text/x-python",
   "name": "python",
   "nbconvert_exporter": "python",
   "pygments_lexer": "ipython3",
   "version": "3.9.19"
  }
 },
 "nbformat": 4,
 "nbformat_minor": 2
}
