{
 "cells": [
  {
   "cell_type": "code",
   "execution_count": 1,
   "metadata": {},
   "outputs": [],
   "source": [
    "import json\n",
    "import pennylane as qml\n",
    "import pennylane.numpy as np"
   ]
  },
  {
   "cell_type": "code",
   "execution_count": 129,
   "metadata": {},
   "outputs": [],
   "source": [
    "np.random.seed(1967)\n",
    "\n",
    "def get_matrix(params):\n",
    "    \"\"\"\n",
    "    Args:\n",
    "        - params (array): The four parameters of the model.\n",
    "        \n",
    "    Returns:\n",
    "        - (matrix): The associated matrix to these parameters.\n",
    "    \"\"\"\n",
    "    alpha, beta, gamma, phi = params\n",
    "    # Put your code here #\n",
    "    \n",
    "    def circuit(alpha, beta, gamma, phi):\n",
    "        qml.RZ(alpha, wires=0)\n",
    "        qml.RX(beta, wires=0)\n",
    "        qml.RZ(gamma, wires=0)\n",
    "        qml.PhaseShift(phi, wires=0)\n",
    "    \n",
    "    matrix = qml.matrix(circuit,wire_order=[0])\n",
    "    matrix_val = matrix(alpha, beta, gamma, phi)\n",
    "    # Return the matrix\n",
    "    return matrix_val"
   ]
  },
  {
   "cell_type": "code",
   "execution_count": 141,
   "metadata": {},
   "outputs": [],
   "source": [
    "def error(U, params):\n",
    "    \"\"\"\n",
    "    This function determines the similarity between your generated matrix and\n",
    "    the target unitary.\n",
    "\n",
    "    Args:\n",
    "        - U (np.array): Goal matrix that we want to approach.\n",
    "        - params (array): The four parameters of the model.\n",
    "\n",
    "    Returns:\n",
    "        - (float): Error associated with the quality of the solution.\n",
    "    \"\"\"\n",
    "\n",
    "    matrix = get_matrix(params)\n",
    "    # Put your code here #\n",
    "    error = np.linalg.norm(matrix - U)\n",
    "    print(error)\n",
    "    # Return the error\n",
    "    return error"
   ]
  },
  {
   "cell_type": "code",
   "execution_count": 142,
   "metadata": {},
   "outputs": [],
   "source": [
    "def train_parameters(U):\n",
    "    epochs = 100\n",
    "    lr = 0.01\n",
    "\n",
    "    grad = qml.grad(error, argnum=1)\n",
    "    params = np.random.rand(4) * np.pi\n",
    "\n",
    "    for epoch in range(epochs):\n",
    "        params -= lr * grad(U, params)\n",
    "\n",
    "    return params"
   ]
  },
  {
   "cell_type": "code",
   "execution_count": 143,
   "metadata": {},
   "outputs": [],
   "source": [
    "# These functions are responsible for testing the solution.\n",
    "def run(test_case_input: str) -> str:\n",
    "    matrix = json.loads(test_case_input)\n",
    "    params = [float(p) for p in train_parameters(matrix)]\n",
    "    return json.dumps(params)\n",
    "\n",
    "\n",
    "def check(solution_output: str, expected_output: str) -> None:\n",
    "    matrix1 = get_matrix(json.loads(solution_output))\n",
    "    matrix2 = json.loads(expected_output)\n",
    "    assert not np.allclose(get_matrix(np.random.rand(4)), get_matrix(np.random.rand(4)))\n",
    "    assert np.allclose(matrix1, matrix2, atol=0.2)"
   ]
  },
  {
   "cell_type": "code",
   "execution_count": 144,
   "metadata": {},
   "outputs": [],
   "source": [
    "# These are the public test cases\n",
    "test_cases = [\n",
    "    ('[[ 0.70710678,  0.70710678], [ 0.70710678, -0.70710678]]', '[[ 0.70710678,  0.70710678], [ 0.70710678, -0.70710678]]'),\n",
    "    ('[[ 1,  0], [ 0, -1]]', '[[ 1,  0], [ 0, -1]]')\n",
    "]"
   ]
  },
  {
   "cell_type": "code",
   "execution_count": 145,
   "metadata": {},
   "outputs": [
    {
     "name": "stdout",
     "output_type": "stream",
     "text": [
      "Running test case 0 with input '[[ 0.70710678,  0.70710678], [ 0.70710678, -0.70710678]]'...\n",
      "Autograd ArrayBox with value 1.3500460105646268\n",
      "Autograd ArrayBox with value 1.3509160978425234\n",
      "Autograd ArrayBox with value 1.3517911602435262\n",
      "Autograd ArrayBox with value 1.3526710141046043\n",
      "Autograd ArrayBox with value 1.3535554728408286\n",
      "Autograd ArrayBox with value 1.354444347165621\n",
      "Autograd ArrayBox with value 1.355337445313746\n",
      "Autograd ArrayBox with value 1.3562345732664893\n",
      "Autograd ArrayBox with value 1.357135534978481\n",
      "Autograd ArrayBox with value 1.3580401326056095\n",
      "Autograd ArrayBox with value 1.358948166733489\n",
      "Autograd ArrayBox with value 1.3598594366059458\n",
      "Autograd ArrayBox with value 1.3607737403529965\n",
      "Autograd ArrayBox with value 1.361690875217807\n",
      "Autograd ArrayBox with value 1.3626106377821303\n",
      "Autograd ArrayBox with value 1.3635328241897362\n",
      "Autograd ArrayBox with value 1.364457230367365\n",
      "Autograd ArrayBox with value 1.3653836522427523\n",
      "Autograd ArrayBox with value 1.3663118859592907\n",
      "Autograd ArrayBox with value 1.367241728086914\n",
      "Autograd ArrayBox with value 1.368172975828821\n",
      "Autograd ArrayBox with value 1.3691054272236516\n",
      "Autograd ArrayBox with value 1.3700388813427875\n",
      "Autograd ArrayBox with value 1.3709731384824413\n",
      "Autograd ArrayBox with value 1.3719080003502384\n",
      "Autograd ArrayBox with value 1.3728432702460178\n",
      "Autograd ArrayBox with value 1.373778753236599\n",
      "Autograd ArrayBox with value 1.374714256324292\n",
      "Autograd ArrayBox with value 1.375649588608946\n",
      "Autograd ArrayBox with value 1.3765845614433632\n",
      "Autograd ArrayBox with value 1.3775189885819252\n",
      "Autograd ArrayBox with value 1.3784526863223028\n",
      "Autograd ArrayBox with value 1.3793854736401445\n",
      "Autograd ArrayBox with value 1.3803171723166676\n",
      "Autograd ArrayBox with value 1.381247607059084\n",
      "Autograd ArrayBox with value 1.3821766056138318\n",
      "Autograd ArrayBox with value 1.3831039988725953\n",
      "Autograd ArrayBox with value 1.384029620971113\n",
      "Autograd ArrayBox with value 1.3849533093808035\n",
      "Autograd ArrayBox with value 1.3858749049932495\n",
      "Autograd ArrayBox with value 1.3867942521975978\n",
      "Autograd ArrayBox with value 1.3877111989509554\n",
      "Autograd ArrayBox with value 1.3886255968418721\n",
      "Autograd ArrayBox with value 1.3895373011470145\n",
      "Autograd ArrayBox with value 1.3904461708811577\n",
      "Autograd ArrayBox with value 1.3913520688406193\n",
      "Autograd ArrayBox with value 1.392254861640287\n",
      "Autograd ArrayBox with value 1.3931544197443944\n",
      "Autograd ArrayBox with value 1.3940506174911995\n",
      "Autograd ArrayBox with value 1.3949433331117589\n",
      "Autograd ArrayBox with value 1.395832448742953\n",
      "Autograd ArrayBox with value 1.3967178504349707\n",
      "Autograd ArrayBox with value 1.3975994281534332\n",
      "Autograd ArrayBox with value 1.3984770757763625\n",
      "Autograd ArrayBox with value 1.399350691086186\n",
      "Autograd ArrayBox with value 1.4002201757569919\n",
      "Autograd ArrayBox with value 1.401085435337236\n",
      "Autograd ArrayBox with value 1.401946379228108\n",
      "Autograd ArrayBox with value 1.4028029206577675\n",
      "Autograd ArrayBox with value 1.4036549766516573\n",
      "Autograd ArrayBox with value 1.4045024679991054\n",
      "Autograd ArrayBox with value 1.4053453192164165\n",
      "Autograd ArrayBox with value 1.406183458506664\n",
      "Autograd ArrayBox with value 1.4070168177163838\n",
      "Autograd ArrayBox with value 1.407845332289369\n",
      "Autograd ArrayBox with value 1.4086689412177649\n",
      "Autograd ArrayBox with value 1.4094875869906556\n",
      "Autograd ArrayBox with value 1.4103012155403345\n",
      "Autograd ArrayBox with value 1.411109776186443\n",
      "Autograd ArrayBox with value 1.4119132215781578\n",
      "Autograd ArrayBox with value 1.4127115076346026\n",
      "Autograd ArrayBox with value 1.4135045934836603\n",
      "Autograd ArrayBox with value 1.4142924413993447\n",
      "Autograd ArrayBox with value 1.4150750167378972\n",
      "Autograd ArrayBox with value 1.415852287872761\n",
      "Autograd ArrayBox with value 1.4166242261285882\n",
      "Autograd ArrayBox with value 1.4173908057144133\n",
      "Autograd ArrayBox with value 1.4181520036561444\n",
      "Autograd ArrayBox with value 1.4189077997284916\n",
      "Autograd ArrayBox with value 1.4196581763864728\n",
      "Autograd ArrayBox with value 1.4204031186966057\n",
      "Autograd ArrayBox with value 1.42114261426791\n",
      "Autograd ArrayBox with value 1.4218766531828266\n",
      "Autograd ArrayBox with value 1.4226052279281567\n",
      "Autograd ArrayBox with value 1.423328333326123\n",
      "Autograd ArrayBox with value 1.4240459664656417\n",
      "Autograd ArrayBox with value 1.4247581266338987\n",
      "Autograd ArrayBox with value 1.425464815248307\n",
      "Autograd ArrayBox with value 1.4261660357889268\n",
      "Autograd ArrayBox with value 1.4268617937314212\n",
      "Autograd ArrayBox with value 1.4275520964806103\n",
      "Autograd ArrayBox with value 1.428236953304694\n",
      "Autograd ArrayBox with value 1.4289163752701945\n",
      "Autograd ArrayBox with value 1.4295903751776795\n",
      "Autograd ArrayBox with value 1.4302589674983097\n",
      "Autograd ArrayBox with value 1.430922168311261\n",
      "Autograd ArrayBox with value 1.431579995242058\n",
      "Autograd ArrayBox with value 1.4322324674018643\n",
      "Autograd ArrayBox with value 1.4328796053277526\n",
      "Autograd ArrayBox with value 1.4335214309239968\n"
     ]
    },
    {
     "ename": "AssertionError",
     "evalue": "",
     "output_type": "error",
     "traceback": [
      "\u001b[0;31m---------------------------------------------------------------------------\u001b[0m",
      "\u001b[0;31mAssertionError\u001b[0m                            Traceback (most recent call last)",
      "Cell \u001b[0;32mIn[145], line 12\u001b[0m\n\u001b[1;32m      9\u001b[0m     \u001b[38;5;28mprint\u001b[39m(\u001b[38;5;124mf\u001b[39m\u001b[38;5;124m\"\u001b[39m\u001b[38;5;124mRuntime Error. \u001b[39m\u001b[38;5;132;01m{\u001b[39;00mexc\u001b[38;5;132;01m}\u001b[39;00m\u001b[38;5;124m\"\u001b[39m)\n\u001b[1;32m     11\u001b[0m \u001b[38;5;28;01melse\u001b[39;00m:\n\u001b[0;32m---> 12\u001b[0m     \u001b[38;5;28;01mif\u001b[39;00m message \u001b[38;5;241m:=\u001b[39m \u001b[43mcheck\u001b[49m\u001b[43m(\u001b[49m\u001b[43moutput\u001b[49m\u001b[43m,\u001b[49m\u001b[43m \u001b[49m\u001b[43mexpected_output\u001b[49m\u001b[43m)\u001b[49m:\n\u001b[1;32m     13\u001b[0m         \u001b[38;5;28mprint\u001b[39m(\u001b[38;5;124mf\u001b[39m\u001b[38;5;124m\"\u001b[39m\u001b[38;5;124mWrong Answer. Have: \u001b[39m\u001b[38;5;124m'\u001b[39m\u001b[38;5;132;01m{\u001b[39;00moutput\u001b[38;5;132;01m}\u001b[39;00m\u001b[38;5;124m'\u001b[39m\u001b[38;5;124m. Want: \u001b[39m\u001b[38;5;124m'\u001b[39m\u001b[38;5;132;01m{\u001b[39;00mexpected_output\u001b[38;5;132;01m}\u001b[39;00m\u001b[38;5;124m'\u001b[39m\u001b[38;5;124m.\u001b[39m\u001b[38;5;124m\"\u001b[39m)\n\u001b[1;32m     15\u001b[0m     \u001b[38;5;28;01melse\u001b[39;00m:\n",
      "Cell \u001b[0;32mIn[143], line 12\u001b[0m, in \u001b[0;36mcheck\u001b[0;34m(solution_output, expected_output)\u001b[0m\n\u001b[1;32m     10\u001b[0m matrix2 \u001b[38;5;241m=\u001b[39m json\u001b[38;5;241m.\u001b[39mloads(expected_output)\n\u001b[1;32m     11\u001b[0m \u001b[38;5;28;01massert\u001b[39;00m \u001b[38;5;129;01mnot\u001b[39;00m np\u001b[38;5;241m.\u001b[39mallclose(get_matrix(np\u001b[38;5;241m.\u001b[39mrandom\u001b[38;5;241m.\u001b[39mrand(\u001b[38;5;241m4\u001b[39m)), get_matrix(np\u001b[38;5;241m.\u001b[39mrandom\u001b[38;5;241m.\u001b[39mrand(\u001b[38;5;241m4\u001b[39m)))\n\u001b[0;32m---> 12\u001b[0m \u001b[38;5;28;01massert\u001b[39;00m np\u001b[38;5;241m.\u001b[39mallclose(matrix1, matrix2, atol\u001b[38;5;241m=\u001b[39m\u001b[38;5;241m0.2\u001b[39m)\n",
      "\u001b[0;31mAssertionError\u001b[0m: "
     ]
    }
   ],
   "source": [
    "# This will run the public test cases locally\n",
    "for i, (input_, expected_output) in enumerate(test_cases):\n",
    "    print(f\"Running test case {i} with input '{input_}'...\")\n",
    "\n",
    "    try:\n",
    "        output = run(input_)\n",
    "\n",
    "    except Exception as exc:\n",
    "        print(f\"Runtime Error. {exc}\")\n",
    "\n",
    "    else:\n",
    "        if message := check(output, expected_output):\n",
    "            print(f\"Wrong Answer. Have: '{output}'. Want: '{expected_output}'.\")\n",
    "\n",
    "        else:\n",
    "            print(\"Correct!\")"
   ]
  },
  {
   "cell_type": "code",
   "execution_count": 136,
   "metadata": {},
   "outputs": [
    {
     "data": {
      "text/plain": [
       "array([[-0.34115232-0.51938896j,  0.09851229-0.77726799j],\n",
       "       [ 0.78225008+0.0439888j , -0.44895819-0.42963512j]])"
      ]
     },
     "execution_count": 136,
     "metadata": {},
     "output_type": "execute_result"
    }
   ],
   "source": [
    "def circuit(alpha, beta, gamma, phi):\n",
    "    qml.RZ(alpha, wires=0)\n",
    "    qml.RX(beta, wires=0)\n",
    "    qml.RZ(gamma, wires=0)\n",
    "    qml.PhaseShift(phi, wires=0)\n",
    "\n",
    "matrix_fn = qml.matrix(circuit, wire_order=[0])\n",
    "alpha, beta, gamma, phi = 2.27803033, 1.80051172, 2.0258912,  1.75304041\n",
    "matrix_fn(alpha, beta, gamma, phi)"
   ]
  },
  {
   "cell_type": "code",
   "execution_count": null,
   "metadata": {},
   "outputs": [],
   "source": []
  }
 ],
 "metadata": {
  "kernelspec": {
   "display_name": "newqc",
   "language": "python",
   "name": "python3"
  },
  "language_info": {
   "codemirror_mode": {
    "name": "ipython",
    "version": 3
   },
   "file_extension": ".py",
   "mimetype": "text/x-python",
   "name": "python",
   "nbconvert_exporter": "python",
   "pygments_lexer": "ipython3",
   "version": "3.9.19"
  }
 },
 "nbformat": 4,
 "nbformat_minor": 2
}
