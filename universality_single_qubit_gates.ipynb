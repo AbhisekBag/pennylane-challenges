{
 "cells": [
  {
   "cell_type": "code",
   "execution_count": 189,
   "metadata": {},
   "outputs": [],
   "source": [
    "import json\n",
    "import pennylane as qml\n",
    "import pennylane.numpy as np"
   ]
  },
  {
   "cell_type": "code",
   "execution_count": 269,
   "metadata": {},
   "outputs": [],
   "source": [
    "np.random.seed(1967)\n",
    "\n",
    "def get_matrix(params):\n",
    "    \"\"\"\n",
    "    Args:\n",
    "        - params (array): The four parameters of the model.\n",
    "        \n",
    "    Returns:\n",
    "        - (matrix): The associated matrix to these parameters.\n",
    "    \"\"\"\n",
    "    alpha, beta, gamma, phi = params\n",
    "    #print(params,'test2')\n",
    "    # Put your code here #\n",
    "   \n",
    "    rz_gamma = qml.matrix(qml.RZ(gamma, wires=0))\n",
    "    rx_beta = qml.matrix(qml.RX(beta, wires=0))\n",
    "    rz_alpha = qml.matrix(qml.RZ(alpha, wires=0))\n",
    "\n",
    "    # Return the matrix\n",
    "    return np.exp(1j * phi) * rz_gamma @ rx_beta @ rz_alpha"
   ]
  },
  {
   "cell_type": "code",
   "execution_count": 284,
   "metadata": {},
   "outputs": [],
   "source": [
    "def error(U, params):\n",
    "    \"\"\"\n",
    "    This function determines the similarity between your generated matrix and\n",
    "    the target unitary.\n",
    "\n",
    "    Args:\n",
    "        - U (np.array): Goal matrix that we want to approach.\n",
    "        - params (array): The four parameters of the model.\n",
    "\n",
    "    Returns:\n",
    "        - (float): Error associated with the quality of the solution.\n",
    "    \"\"\"\n",
    "\n",
    "    matrix = get_matrix(params)\n",
    "    # Put your code here #\n",
    "    error =  np.abs(U - matrix).sum()\n",
    "    #print(error,'test1')\n",
    "    # Return the error\n",
    "    return error"
   ]
  },
  {
   "cell_type": "code",
   "execution_count": 285,
   "metadata": {},
   "outputs": [],
   "source": [
    "def train_parameters(U):\n",
    "    epochs = 2000\n",
    "    lr = 0.01\n",
    "\n",
    "    grad = qml.grad(error, argnum=1)\n",
    "    params = np.random.rand(4) * np.pi\n",
    "\n",
    "    for epoch in range(epochs):\n",
    "        params -= lr * grad(U, params)\n",
    "        #print(epoch, params)\n",
    "\n",
    "    return params"
   ]
  },
  {
   "cell_type": "code",
   "execution_count": 286,
   "metadata": {},
   "outputs": [],
   "source": [
    "# These functions are responsible for testing the solution.\n",
    "def run(test_case_input: str) -> str:\n",
    "    matrix = json.loads(test_case_input)\n",
    "    params = [float(p) for p in train_parameters(matrix)]\n",
    "    #print(params,'break')\n",
    "    return json.dumps(params)\n",
    "\n",
    "\n",
    "def check(solution_output: str, expected_output: str) -> None:\n",
    "    matrix1 = get_matrix(json.loads(solution_output))\n",
    "    matrix2 = json.loads(expected_output)\n",
    "    print(matrix1,'final matrix')\n",
    "    assert not np.allclose(get_matrix(np.random.rand(4)), get_matrix(np.random.rand(4)))\n",
    "    assert np.allclose(matrix1, matrix2, atol=0.2)"
   ]
  },
  {
   "cell_type": "code",
   "execution_count": 287,
   "metadata": {},
   "outputs": [],
   "source": [
    "# These are the public test cases\n",
    "test_cases = [\n",
    "    ('[[ 0.70710678,  0.70710678], [ 0.70710678, -0.70710678]]', '[[ 0.70710678,  0.70710678], [ 0.70710678, -0.70710678]]'),\n",
    "    ('[[ 1,  0], [ 0, -1]]', '[[ 1,  0], [ 0, -1]]')\n",
    "]"
   ]
  },
  {
   "cell_type": "code",
   "execution_count": 288,
   "metadata": {},
   "outputs": [
    {
     "name": "stdout",
     "output_type": "stream",
     "text": [
      "Running test case 0 with input '[[ 0.70710678,  0.70710678], [ 0.70710678, -0.70710678]]'...\n",
      "[[ 0.70695158+0.01481417j  0.70703181+0.01029652j]\n",
      " [ 0.70684249+0.01933119j -0.70695158-0.01481415j]] final matrix\n",
      "Correct!\n",
      "Running test case 1 with input '[[ 1,  0], [ 0, -1]]'...\n",
      "[[ 0.99999625-0.00067668j  0.00263044+0.00034372j]\n",
      " [ 0.00263044-0.00034372j -0.99999625-0.00067668j]] final matrix\n",
      "Correct!\n"
     ]
    }
   ],
   "source": [
    "# This will run the public test cases locally\n",
    "for i, (input_, expected_output) in enumerate(test_cases):\n",
    "    print(f\"Running test case {i} with input '{input_}'...\")\n",
    "\n",
    "    try:\n",
    "        output = run(input_)\n",
    "\n",
    "    except Exception as exc:\n",
    "        print(f\"Runtime Error. {exc}\")\n",
    "\n",
    "    else:\n",
    "        if message := check(output, expected_output):\n",
    "            print(f\"Wrong Answer. Have: '{output}'. Want: '{expected_output}'.\")\n",
    "\n",
    "        else:\n",
    "            print(\"Correct!\")"
   ]
  },
  {
   "cell_type": "code",
   "execution_count": null,
   "metadata": {},
   "outputs": [],
   "source": []
  },
  {
   "cell_type": "code",
   "execution_count": null,
   "metadata": {},
   "outputs": [],
   "source": []
  }
 ],
 "metadata": {
  "kernelspec": {
   "display_name": "newqc",
   "language": "python",
   "name": "python3"
  },
  "language_info": {
   "codemirror_mode": {
    "name": "ipython",
    "version": 3
   },
   "file_extension": ".py",
   "mimetype": "text/x-python",
   "name": "python",
   "nbconvert_exporter": "python",
   "pygments_lexer": "ipython3",
   "version": "3.9.19"
  }
 },
 "nbformat": 4,
 "nbformat_minor": 2
}
